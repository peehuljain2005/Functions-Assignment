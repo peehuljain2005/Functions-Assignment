{
  "nbformat": 4,
  "nbformat_minor": 0,
  "metadata": {
    "colab": {
      "provenance": []
    },
    "kernelspec": {
      "name": "python3",
      "display_name": "Python 3"
    },
    "language_info": {
      "name": "python"
    }
  },
  "cells": [
    {
      "cell_type": "markdown",
      "source": [
        " 1. What is the difference between a function and a method in Python?"
      ],
      "metadata": {
        "id": "ea6EP8eM-3Ef"
      }
    },
    {
      "cell_type": "markdown",
      "source": [],
      "metadata": {
        "id": "C4cGps4w-vCs"
      }
    },
    {
      "cell_type": "markdown",
      "source": [
        " Function\n",
        "A function is defined using the def keyword and is not tied to any object.\n",
        "\n",
        "It can be used independently."
      ],
      "metadata": {
        "id": "9BYxjfDY-s23"
      }
    },
    {
      "cell_type": "markdown",
      "source": [
        " Method\n",
        "A method is a function that is associated with an object.\n",
        "\n",
        "It is called using dot notation and automatically takes the object (usually self) as the first argument."
      ],
      "metadata": {
        "id": "zg5_pFP5-0n6"
      }
    },
    {
      "cell_type": "markdown",
      "source": [
        "2. Explain the concept of function arguments and parameters in Python."
      ],
      "metadata": {
        "id": "ijCcE0bC-8VG"
      }
    },
    {
      "cell_type": "markdown",
      "source": [
        "Parameters\n",
        "Parameters are placeholders used in the function definition.\n",
        "\n",
        "They define what kind of input the function can receive."
      ],
      "metadata": {
        "id": "MvPjTobl_Jlj"
      }
    },
    {
      "cell_type": "markdown",
      "source": [
        "Arguments\n",
        "Arguments are the actual values passed to the function when it is called.\n",
        "\n",
        "They are assigned to the function's parameters."
      ],
      "metadata": {
        "id": "NNOXpnAR_RJZ"
      }
    },
    {
      "cell_type": "markdown",
      "source": [
        "3. What are the different ways to define and call a function in Python?"
      ],
      "metadata": {
        "id": "UU6VG-WhAAW0"
      }
    },
    {
      "cell_type": "markdown",
      "source": [
        "1. Calling Functions\n",
        "Without arguments:\n",
        "greet()\n",
        "\n",
        "With arguments:\n",
        "greet(\"Alice\")\n",
        "\n",
        "With return value:\n",
        "result = add(2, 3)\n",
        "\n",
        "Calling lambda:\n",
        "square(5)\n",
        "\n",
        "2. Special Features\n",
        "Default arguments:\n",
        "def greet(name=\"Guest\")\n",
        "\n",
        "Keyword arguments:\n",
        "info(age=25, name=\"Amit\")\n",
        "\n",
        "Variable arguments:\n",
        "\n",
        "*args for multiple positional args\n",
        "\n",
        "**kwargs for multiple keyword args"
      ],
      "metadata": {
        "id": "bPCYbVwS_Ubl"
      }
    },
    {
      "cell_type": "markdown",
      "source": [
        "4. What is the purpose of the `return` statement in a Python function ?"
      ],
      "metadata": {
        "id": "uUEBHPkOAGSf"
      }
    },
    {
      "cell_type": "markdown",
      "source": [
        "Purpose of the return Statement in a Python Function:\n",
        "The return statement in Python is used to send a result back from a function to the place where the function was called.\n",
        "\n",
        "Key Purposes:\n",
        "Returns a value from the function.\n",
        "\n",
        "Ends the function’s execution immediately.\n",
        "\n",
        "Allows the returned value to be stored in a variable or used in expressions."
      ],
      "metadata": {
        "id": "I8h30eK9ALV7"
      }
    },
    {
      "cell_type": "markdown",
      "source": [
        "5. What are iterators in Python and how do they differ from iterables?"
      ],
      "metadata": {
        "id": "stXW4xL3ATvX"
      }
    },
    {
      "cell_type": "markdown",
      "source": [
        "Key Differences:\n",
        "Feature\tIterable\tIterator\n",
        "Definition\tCan be looped over\tProduces next item one at a time\n",
        "Methods\tHas __iter__()\tHas __iter__() and __next__()\n",
        "Usage\tUsed in loops (e.g. for)\tUsed with next() function\n",
        "Examples\tList, tuple, string\tObject from iter() function"
      ],
      "metadata": {
        "id": "jIGIpRoFAZBN"
      }
    },
    {
      "cell_type": "markdown",
      "source": [
        "6. Explain the concept of generators in Python and how they are defined."
      ],
      "metadata": {
        "id": "qwBlcqnJAlLP"
      }
    },
    {
      "cell_type": "markdown",
      "source": [
        "A generator in Python is a special type of function that returns an iterator and yields values one at a time instead of returning them all at once.\n",
        "\n",
        "Key Features:\n",
        "Uses the **yield** keyword instead of return.\n",
        "\n",
        "Maintains its state between calls, meaning it resumes where it left off.\n",
        "\n",
        "More memory-efficient for large data sets.\n",
        "\n",
        "Generates values on the fly (lazy evaluation)."
      ],
      "metadata": {
        "id": "xeLY9xb5AqRF"
      }
    },
    {
      "cell_type": "markdown",
      "source": [],
      "metadata": {
        "id": "X47l1YhrBJ-L"
      }
    },
    {
      "cell_type": "markdown",
      "source": [
        "7. What are the advantages of using generators over regular functions?"
      ],
      "metadata": {
        "id": "7dkMHKjuBKAH"
      }
    },
    {
      "cell_type": "markdown",
      "source": [
        "Advantages of Generators over Regular Functions (Theory)\n",
        "1. Memory Efficient:\n",
        "Generators yield one value at a time and do not store the entire output in memory.\n",
        "\n",
        "2. Lazy Evaluation:\n",
        "Values are produced only when needed, improving performance.\n",
        "\n",
        "3. Infinite Sequences:\n",
        "Generators can represent infinite data without memory issues.\n",
        "\n",
        "4. Simpler Syntax:\n",
        "Easier to write and manage using yield instead of creating full iterator classes.\n",
        "\n",
        "5. Faster Execution for Large Data:\n",
        "Since data is generated on-the-fly, execution is quicker for large or streaming data."
      ],
      "metadata": {
        "id": "yFSK9Y7SA0J9"
      }
    },
    {
      "cell_type": "markdown",
      "source": [
        "8. What is a lambda function in Python and when is it typically used?"
      ],
      "metadata": {
        "id": "QRtqOC8LBQ9J"
      }
    },
    {
      "cell_type": "markdown",
      "source": [
        "A lambda function is an anonymous (unnamed) function in Python defined using the lambda keyword.\n",
        "It can have any number of arguments, but only one expression."
      ],
      "metadata": {
        "id": "3J_0RtPzBVdy"
      }
    },
    {
      "cell_type": "markdown",
      "source": [
        "When is it Used?\n",
        "Lambda functions are typically used:\n",
        "\n",
        "1. For short, simple operations\n",
        "\n",
        "2. When you don’t want to formally define a function using def\n",
        "\n",
        "3. As arguments to higher-order functions like map(), filter(), or sorted()"
      ],
      "metadata": {
        "id": "tK0LFBLlBdhS"
      }
    },
    {
      "cell_type": "markdown",
      "source": [
        "9.  Explain the purpose and usage of the `map()` function in Python."
      ],
      "metadata": {
        "id": "H79fDhz-BnCj"
      }
    },
    {
      "cell_type": "markdown",
      "source": [
        "The map() function in Python is used to apply a function to each item in an iterable (like a list, tuple, etc.) and return a new map object (an iterator) with the results."
      ],
      "metadata": {
        "id": "1WkAb8hKBsBb"
      }
    },
    {
      "cell_type": "markdown",
      "source": [
        "Key Points:\n",
        "map() returns an iterator, so use list() or for loop to view results.\n",
        "\n",
        "Often used with lambda functions for cleaner code."
      ],
      "metadata": {
        "id": "p2Ul3vClB4Dt"
      }
    },
    {
      "cell_type": "markdown",
      "source": [
        "10.  What is the difference between `map()`, `reduce()`, and `filter()` functions in Python?"
      ],
      "metadata": {
        "id": "EFTvCLNxB_Cy"
      }
    },
    {
      "cell_type": "markdown",
      "source": [
        "Function\tPurpose\tReturns\n",
        "map()\tApplies a function to each item\tNew iterable\n",
        "filter()\tKeeps items where function returns True\tFiltered iterable\n",
        "reduce()\tCombines all items into one value\tSingle result"
      ],
      "metadata": {
        "id": "hsALnKXqCDW_"
      }
    },
    {
      "cell_type": "markdown",
      "source": [
        "11. . Using pen & Paper write the internal mechanism for sum operation using reduce function on this given\n",
        "list:[47,11,42,13"
      ],
      "metadata": {
        "id": "IR8DXBZYCP97"
      }
    },
    {
      "cell_type": "markdown",
      "source": [],
      "metadata": {
        "id": "gVsHXdCTCUQZ"
      }
    },
    {
      "cell_type": "markdown",
      "source": [
        " Write a Python function that takes a list of numbers as input and returns the sum of all even numbers in\n",
        "the list.\n"
      ],
      "metadata": {
        "id": "J5d2UMiYCjj_"
      }
    },
    {
      "cell_type": "code",
      "source": [
        "def sum_of_even_numbers(numbers):\n",
        "    even_sum = 0\n",
        "    for num in numbers:\n",
        "        if num % 2 == 0:\n",
        "            even_sum += num\n",
        "    return even_sum\n"
      ],
      "metadata": {
        "id": "rSJeadBnC66l"
      },
      "execution_count": null,
      "outputs": []
    },
    {
      "cell_type": "markdown",
      "source": [
        "Create a Python function that accepts a string and returns the reverse of that string.\n"
      ],
      "metadata": {
        "id": "9zmv23kYDCPX"
      }
    },
    {
      "cell_type": "code",
      "source": [
        "def reverse_string(s):\n",
        "    return s[::-1]\n",
        "\n"
      ],
      "metadata": {
        "id": "K7dYBjAcDHrO"
      },
      "execution_count": null,
      "outputs": []
    },
    {
      "cell_type": "markdown",
      "source": [],
      "metadata": {
        "id": "GpUAr1SbDkWI"
      }
    },
    {
      "cell_type": "markdown",
      "source": [
        "Implement a Python function that takes a list of integers and returns a new list containing the squares of each number.\n"
      ],
      "metadata": {
        "id": "DJPCqShSD41m"
      }
    },
    {
      "cell_type": "markdown",
      "source": [],
      "metadata": {
        "id": "NrAkRvFVD5_d"
      }
    },
    {
      "cell_type": "code",
      "source": [
        "def square_list(numbers):\n",
        "    return [x ** 2 for x in numbers]"
      ],
      "metadata": {
        "id": "UA64oyf8Dxsw"
      },
      "execution_count": null,
      "outputs": []
    },
    {
      "cell_type": "markdown",
      "source": [
        "Write a Python function that checks if a given number is prime or not from 1 to 200.\n"
      ],
      "metadata": {
        "id": "SquYjxu5D68q"
      }
    },
    {
      "cell_type": "code",
      "source": [
        "def is_prime(n):\n",
        "    if n < 2 or n > 200:\n",
        "        return False\n",
        "    for i in range(2, int(n ** 0.5) + 1):\n",
        "        if n % i == 0:\n",
        "            return False\n",
        "    return True"
      ],
      "metadata": {
        "id": "SVjdilf_ECSs"
      },
      "execution_count": null,
      "outputs": []
    },
    {
      "cell_type": "markdown",
      "source": [],
      "metadata": {
        "id": "LBcZnzIYFdai"
      }
    },
    {
      "cell_type": "markdown",
      "source": [
        "Create an iterator class in Python that generates the Fibonacci sequence up to a specified number of\n",
        "terms."
      ],
      "metadata": {
        "id": "Xkgzs0wWEIEr"
      }
    },
    {
      "cell_type": "code",
      "source": [
        "ef fib(n):\n",
        "    a = 0\n",
        "    b = 1\n",
        "    for i in range(n):\n",
        "        yield a\n",
        "        a, b = b, a+b"
      ],
      "metadata": {
        "id": "Rk2uy6f_EOAZ"
      },
      "execution_count": null,
      "outputs": []
    },
    {
      "cell_type": "markdown",
      "source": [
        "Write a generator function in Python that yields the powers of 2 up to a given exponent."
      ],
      "metadata": {
        "id": "9-agoz3QFIb-"
      }
    },
    {
      "cell_type": "code",
      "source": [
        "def powers_of_two(max_exponent):\n",
        "    for exp in range(max_exponent + 1):\n",
        "        yield 2 ** exp\n"
      ],
      "metadata": {
        "id": "JKV-KYtLFBkJ"
      },
      "execution_count": null,
      "outputs": []
    },
    {
      "cell_type": "markdown",
      "source": [
        " Implement a generator function that reads a file line by line and yields each line as a string"
      ],
      "metadata": {
        "id": "h0ddldICFL84"
      }
    },
    {
      "cell_type": "code",
      "source": [
        "def read_file_lines(file_path):\n",
        "    with open(file_path, 'r') as file:\n",
        "        for line in file:\n",
        "            yield line.rstrip('\\n')"
      ],
      "metadata": {
        "id": "xZLdfAjvFTE_"
      },
      "execution_count": null,
      "outputs": []
    },
    {
      "cell_type": "markdown",
      "source": [
        "Use a lambda function in Python to sort a list of tuples based on the second element of each tuple."
      ],
      "metadata": {
        "id": "PivFOkZDFe19"
      }
    },
    {
      "cell_type": "code",
      "source": [
        "data = [(3, 4), (1, 2), (5, 1), (7, 3)]\n",
        "\n",
        "# Sort by the second element (index 1)\n",
        "sorted_data = sorted(data, key=lambda x: x[1])\n",
        "\n",
        "print(sorted_data)"
      ],
      "metadata": {
        "id": "BoOzXYQjFeOM"
      },
      "execution_count": null,
      "outputs": []
    },
    {
      "cell_type": "markdown",
      "source": [
        "Write a Python program that uses `map()` to convert a list of temperatures from Celsius to Fahrenheit."
      ],
      "metadata": {
        "id": "yiZ3DQ7eFqhC"
      }
    },
    {
      "cell_type": "code",
      "source": [
        "def celsius_to_fahrenheit(c):\n",
        "    return (c * 9/5) + 32\n",
        "\n",
        "celsius_list = [0, 10, 20, 30, 40]\n",
        "fahrenheit_list = list(map(celsius_to_fahrenheit, celsius_list))\n",
        "\n",
        "print(fahrenheit_list)"
      ],
      "metadata": {
        "id": "p9OgTAtdFxnM"
      },
      "execution_count": null,
      "outputs": []
    },
    {
      "cell_type": "markdown",
      "source": [
        ". Create a Python program that uses `filter()` to remove all the vowels from a given string.\n"
      ],
      "metadata": {
        "id": "HfiqXAztF0PU"
      }
    },
    {
      "cell_type": "markdown",
      "source": [],
      "metadata": {
        "id": "uWql1CesF6qj"
      }
    },
    {
      "cell_type": "code",
      "source": [
        "def remove_vowels(text):\n",
        "    vowels = 'aeiouAEIOU'\n",
        "    return ''.join(filter(lambda char: char not in vowels, text))"
      ],
      "metadata": {
        "id": "_uADKqaVF6z3"
      },
      "execution_count": null,
      "outputs": []
    },
    {
      "cell_type": "markdown",
      "source": [],
      "metadata": {
        "id": "I1FTTu4kGIV5"
      }
    }
  ]
}